{
 "cells": [
  {
   "cell_type": "markdown",
   "metadata": {},
   "source": [
    "**OpenCV reads images in the BGR (Blue, Green, Red) order, not the typical RGB (Red, Green, Blue) that most image-processing libraries or color systems follow.**\n",
    "\n",
    "**The reason OpenCV uses BGR by default comes from its origins in legacy systems that used BGR, and it has continued with that convention to maintain compatibility and avoid breaking older code**."
   ]
  },
  {
   "cell_type": "markdown",
   "metadata": {},
   "source": [
    "## Goal\n",
    "\n",
    "1. Read an image from file\n",
    "2. Display an image in an OpenCV window\n",
    "3. Write an image to a file"
   ]
  },
  {
   "cell_type": "code",
   "execution_count": 22,
   "metadata": {},
   "outputs": [],
   "source": [
    "import cv2 as cv\n",
    "import sys\n",
    "\n",
    "img = cv.imread(r\"../images/Class.jpeg\")\n",
    "\n",
    "if img is None:\n",
    "    sys.exit(\"Could not read the image.\")\n",
    "\n",
    "cv.imshow('Display Window', img)\n",
    "cv.imwrite(\"../output/output.jpg\", img)\n",
    "cv.waitKey(0)\n",
    "cv.destroyAllWindows()\n",
    "    "
   ]
  },
  {
   "cell_type": "markdown",
   "metadata": {},
   "source": [
    "**cv::imread** function loads the image using the file path specified by the first argument. The second argument is optional and specifies the format in which we want the image. This may be:\n",
    "1. IMREAD_COLOR loads the image in the BGR 8-bit format. This is the default that is used here.\n",
    "2. IMREAD_UNCHANGED loads the image as is (including the alpha channel if present)\n",
    "3. IMREAD_GRAYSCALE loads the image as an intensity one\n",
    "\n",
    "After reading in, the image data will be stored in a cv:Mat object\n",
    "\n",
    "Then, the image is shown using a call to the **cv::imshow** function. The first argument is the title of the window and the second argument is the cv::Mat object that will be shown.\n",
    "\n",
    "Because we want our window to be displayed until the user presses a key (otherwise the program would end far too quickly), we use the **cv::waitKey** function whose only parameter is just how long should it wait for a user input (measured in milliseconds). Zero means to wait forever. The return value is the key that was pressed."
   ]
  },
  {
   "cell_type": "code",
   "execution_count": null,
   "metadata": {},
   "outputs": [],
   "source": [
    "#Color Image\n",
    "\n",
    "import cv2 as cv\n",
    "import sys\n",
    "\n",
    "img = cv.imread(r\"../images/class.jpeg\", cv.IMREAD_COLOR)\n",
    "\n",
    "if img is None:\n",
    "    sys.exit(\"Could not read the image.\")\n",
    "\n",
    "cv.imshow('Display Window', img)\n",
    "cv.imwrite(\"../output/class_color.jpeg\", img)\n",
    "cv.waitKey(0)\n",
    "cv.destroyAllWindows()\n",
    "    "
   ]
  },
  {
   "cell_type": "code",
   "execution_count": 24,
   "metadata": {},
   "outputs": [],
   "source": [
    "#Grayscale Image\n",
    "\n",
    "import cv2 as cv\n",
    "import sys\n",
    "\n",
    "img = cv.imread(r\"../images/class.jpeg\", cv.IMREAD_GRAYSCALE)\n",
    "\n",
    "if img is None:\n",
    "    sys.exit(\"Could not read the image.\")\n",
    "\n",
    "cv.imshow('Display Window', img)\n",
    "cv.imwrite(\"../output/class_grayscale.jpg\", img)\n",
    "cv.waitKey(0)\n",
    "cv.destroyAllWindows()\n",
    "    "
   ]
  },
  {
   "cell_type": "code",
   "execution_count": 25,
   "metadata": {},
   "outputs": [],
   "source": [
    "#Unchanged Image\n",
    "\n",
    "import cv2 as cv\n",
    "import sys\n",
    "\n",
    "img = cv.imread(r\"../images/class.jpeg\", cv.IMREAD_UNCHANGED)\n",
    "\n",
    "if img is None:\n",
    "    sys.exit(\"Could not read the image.\")\n",
    "\n",
    "cv.imshow('Display Window', img)\n",
    "cv.imwrite(\"../output/class_unchanged.jpg\", img)\n",
    "cv.waitKey(0)\n",
    "cv.destroyAllWindows()\n",
    "    "
   ]
  },
  {
   "cell_type": "code",
   "execution_count": 26,
   "metadata": {},
   "outputs": [],
   "source": [
    "#color rgb image\n",
    "\n",
    "import cv2 as cv\n",
    "import sys\n",
    "\n",
    "img = cv.imread(r\"../images/class.jpeg\", cv.IMREAD_COLOR_RGB)\n",
    "\n",
    "if img is None:\n",
    "    sys.exit(\"Could not read the image.\")\n",
    "\n",
    "cv.imshow('Display Window', img)\n",
    "cv.imwrite(\"../output/class_color_rgb.jpg\", img)\n",
    "cv.waitKey(0)\n",
    "cv.destroyAllWindows()\n",
    "    "
   ]
  },
  {
   "cell_type": "code",
   "execution_count": 31,
   "metadata": {},
   "outputs": [],
   "source": [
    "#color bgr image\n",
    "\n",
    "import cv2 as cv\n",
    "import sys\n",
    "\n",
    "img = cv.imread(r\"../images/class.jpeg\", cv.IMREAD_COLOR_BGR)\n",
    "\n",
    "if img is None:\n",
    "    sys.exit(\"Could not read the image.\")\n",
    "\n",
    "cv.imshow('Display Window', img)\n",
    "cv.imwrite(\"../output/class_color_bgr.jpg\", img)\n",
    "cv.waitKey(0)\n",
    "cv.destroyAllWindows()\n",
    "    "
   ]
  },
  {
   "cell_type": "markdown",
   "metadata": {},
   "source": [
    "## cv:imread"
   ]
  },
  {
   "cell_type": "markdown",
   "metadata": {},
   "source": [
    "1. **First version (returns the image directly)**:\n",
    "\n",
    "    image = cv2.imread('image.jpg', cv2.IMREAD_COLOR)  # Returns the loaded image\n",
    "\n",
    "2. **Second version (loads into a pre-allocated object)**:\n",
    "\n",
    "    image = np.empty((100, 100, 3), dtype=np.uint8)  # Pre-allocated image\n",
    "\n",
    "    cv2.imread('image.jpg', cv2.IMREAD_COLOR, dst=image)  # Loads image into 'image'\n"
   ]
  },
  {
   "cell_type": "markdown",
   "metadata": {},
   "source": [
    "## cv:imshow"
   ]
  },
  {
   "cell_type": "markdown",
   "metadata": {},
   "source": [
    "1. The function imshow displays an image in the specified window.\n",
    "\n",
    "2. This function should be followed by a call to **cv::waitKey** to perform GUI housekeeping tasks that are necessary to actually show the given image and make the window respond to mouse and keyboard events. Otherwise, it won't display the image and the window might lock up. \n",
    "\n",
    "   For example, waitKey(0) will display the window infinitely until any keypress\n",
    "\n",
    "   waitKey(25) will display a frame and wait approximately 25 ms for a key press\n",
    "\n",
    "3. To remove the window, use **cv::destroyWindow**."
   ]
  },
  {
   "cell_type": "markdown",
   "metadata": {},
   "source": [
    "## cv:imwrite"
   ]
  },
  {
   "cell_type": "markdown",
   "metadata": {},
   "source": [
    "The function imwrite saves the image to the specified file. The image format is chosen based on the filename extension. In general, only 8-bit unsigned (**CV_8U**) single-channel or 3-channel (with '**BGR**' channel order) images can be saved using this function with few exceptions.\n",
    "\n",
    "**If the image format is not supported, the image will be converted to 8-bit unsigned (CV_8U) and saved that way.**"
   ]
  },
  {
   "cell_type": "markdown",
   "metadata": {},
   "source": [
    "## resize window\n",
    "This function allows you to adjust the window size after it's been created. It's important to note that the window itself is separate from the image being displayed, so resizing the window doesn't automatically resize the image; you would need to resize the image manually if needed.\n"
   ]
  },
  {
   "cell_type": "code",
   "execution_count": 33,
   "metadata": {},
   "outputs": [],
   "source": [
    "#color bgr image\n",
    "\n",
    "import cv2 as cv\n",
    "import sys\n",
    "\n",
    "img = cv.imread(r\"../images/class.jpeg\", cv.IMREAD_COLOR_BGR)\n",
    "\n",
    "if img is None:\n",
    "    sys.exit(\"Could not read the image.\")\n",
    "\n",
    "cv.imshow('Display Window', img)\n",
    "cv.resizeWindow('Display Window', 200,200)\n",
    "cv.imwrite(\"../output/class_resize.jpg\", img)\n",
    "cv.waitKey(0)\n",
    "cv.destroyAllWindows()\n",
    "    "
   ]
  },
  {
   "cell_type": "code",
   "execution_count": null,
   "metadata": {},
   "outputs": [],
   "source": []
  }
 ],
 "metadata": {
  "kernelspec": {
   "display_name": ".venv",
   "language": "python",
   "name": "python3"
  },
  "language_info": {
   "codemirror_mode": {
    "name": "ipython",
    "version": 3
   },
   "file_extension": ".py",
   "mimetype": "text/x-python",
   "name": "python",
   "nbconvert_exporter": "python",
   "pygments_lexer": "ipython3",
   "version": "3.10.16"
  }
 },
 "nbformat": 4,
 "nbformat_minor": 2
}
