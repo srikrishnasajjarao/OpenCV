{
 "cells": [
  {
   "cell_type": "markdown",
   "metadata": {},
   "source": [
    "## Goal\n",
    "\n",
    "1. Read an image from file\n",
    "2. Display an image in an OpenCV window\n",
    "3. Write an image to a file"
   ]
  },
  {
   "cell_type": "code",
   "execution_count": null,
   "metadata": {},
   "outputs": [],
   "source": [
    "import cv2 as cv\n",
    "import sys\n",
    "\n",
    "img = cv.imread(r\"../images/Class.jpeg\")\n",
    "\n",
    "if img is None:\n",
    "    sys.exit(\"Could not read the image.\")\n",
    "\n",
    "cv.imshow('Display Window', img)\n",
    "cv.imwrite(\"../output/output.jpg\", img)\n",
    "cv.waitKey(0)\n",
    "cv.destroyAllWindows()\n",
    "    "
   ]
  },
  {
   "cell_type": "markdown",
   "metadata": {},
   "source": [
    "##### cv::imread function loads the image using the file path specified by the first argument. The second argument is optional and specifies the format in which we want the image. This may be:\n",
    "1. IMREAD_COLOR loads the image in the BGR 8-bit format. This is the default that is used here.\n",
    "2. IMREAD_UNCHANGED loads the image as is (including the alpha channel if present)\n",
    "3. IMREAD_GRAYSCALE loads the image as an intensity one\n",
    "##### After reading in, the image data will be stored in a cv:Mat object\n",
    "\n",
    "Then, the image is shown using a call to the cv::imshow function. The first argument is the title of the window and the second argument is the cv::Mat object that will be shown.\n",
    "\n",
    "Because we want our window to be displayed until the user presses a key (otherwise the program would end far too quickly), we use the cv::waitKey function whose only parameter is just how long should it wait for a user input (measured in milliseconds). Zero means to wait forever. The return value is the key that was pressed."
   ]
  },
  {
   "cell_type": "code",
   "execution_count": null,
   "metadata": {},
   "outputs": [],
   "source": [
    "#Color Image\n",
    "\n",
    "import cv2 as cv\n",
    "import sys\n",
    "\n",
    "img = cv.imread(r\"../images/class.jpeg\", cv.IMREAD_COLOR)\n",
    "\n",
    "if img is None:\n",
    "    sys.exit(\"Could not read the image.\")\n",
    "\n",
    "cv.imshow('Display Window', img)\n",
    "cv.imwrite(\"../output/class_color.jpeg\", img)\n",
    "cv.waitKey(0)\n",
    "cv.destroyAllWindows()\n",
    "    "
   ]
  },
  {
   "cell_type": "code",
   "execution_count": null,
   "metadata": {},
   "outputs": [],
   "source": [
    "#Grayscale Image\n",
    "\n",
    "import cv2 as cv\n",
    "import sys\n",
    "\n",
    "img = cv.imread(r\"../images/class.jpeg\", cv.IMREAD_GRAYSCALE)\n",
    "\n",
    "if img is None:\n",
    "    sys.exit(\"Could not read the image.\")\n",
    "\n",
    "cv.imshow('Display Window', img)\n",
    "cv.imwrite(\"../output/class_grayscale.jpg\", img)\n",
    "cv.waitKey(0)\n",
    "cv.destroyAllWindows()\n",
    "    "
   ]
  },
  {
   "cell_type": "code",
   "execution_count": null,
   "metadata": {},
   "outputs": [],
   "source": [
    "#Unchanged Image\n",
    "\n",
    "import cv2 as cv\n",
    "import sys\n",
    "\n",
    "img = cv.imread(r\"../images/class.jpeg\", cv.IMREAD_UNCHANGED)\n",
    "\n",
    "if img is None:\n",
    "    sys.exit(\"Could not read the image.\")\n",
    "\n",
    "cv.imshow('Display Window', img)\n",
    "cv.imwrite(\"../output/class_unchanged.jpg\", img)\n",
    "cv.waitKey(0)\n",
    "cv.destroyAllWindows()\n",
    "    "
   ]
  },
  {
   "cell_type": "code",
   "execution_count": null,
   "metadata": {},
   "outputs": [],
   "source": [
    "#color rgb image\n",
    "\n",
    "import cv2 as cv\n",
    "import sys\n",
    "\n",
    "img = cv.imread(r\"../images/class.jpeg\", cv.IMREAD_COLOR_RGB)\n",
    "\n",
    "if img is None:\n",
    "    sys.exit(\"Could not read the image.\")\n",
    "\n",
    "cv.imshow('Display Window', img)\n",
    "cv.imwrite(\"../output/class_color_rgb.jpg\", img)\n",
    "cv.waitKey(0)\n",
    "cv.destroyAllWindows()\n",
    "    "
   ]
  },
  {
   "cell_type": "code",
   "execution_count": 21,
   "metadata": {},
   "outputs": [],
   "source": [
    "#color bgr image\n",
    "\n",
    "import cv2 as cv\n",
    "import sys\n",
    "\n",
    "img = cv.imread(r\"../images/class.jpeg\", cv.IMREAD_COLOR_BGR)\n",
    "\n",
    "if img is None:\n",
    "    sys.exit(\"Could not read the image.\")\n",
    "\n",
    "cv.imshow('Display Window', img)\n",
    "cv.imwrite(\"../output/class_color_bgr.jpg\", img)\n",
    "cv.waitKey(0)\n",
    "cv.destroyAllWindows()\n",
    "    "
   ]
  },
  {
   "cell_type": "code",
   "execution_count": null,
   "metadata": {},
   "outputs": [],
   "source": []
  }
 ],
 "metadata": {
  "kernelspec": {
   "display_name": ".venv",
   "language": "python",
   "name": "python3"
  },
  "language_info": {
   "codemirror_mode": {
    "name": "ipython",
    "version": 3
   },
   "file_extension": ".py",
   "mimetype": "text/x-python",
   "name": "python",
   "nbconvert_exporter": "python",
   "pygments_lexer": "ipython3",
   "version": "3.10.16"
  }
 },
 "nbformat": 4,
 "nbformat_minor": 2
}
