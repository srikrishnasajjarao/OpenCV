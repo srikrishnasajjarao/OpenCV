{
 "cells": [
  {
   "cell_type": "markdown",
   "metadata": {},
   "source": [
    "## Goal\n",
    "\n",
    "1. Learn to read video, display video, and save video.\n",
    "2. Learn to capture video from a camera and display it.\n",
    "3. You will learn these functions : cv.VideoCapture(), cv.VideoWriter()"
   ]
  },
  {
   "cell_type": "markdown",
   "metadata": {},
   "source": [
    "#### Capture Video from Camera"
   ]
  },
  {
   "cell_type": "markdown",
   "metadata": {},
   "source": [
    "To capture a video, you need to create a VideoCapture object. Its argument can be either the device index or the name of a video file. A device index is just the number to specify which camera. Normally one camera will be connected (as in my case). So I simply pass 0 (or -1). You can select the second camera by passing 1 and so on. After that, you can capture frame-by-frame. But at the end, don't forget to release the capture."
   ]
  },
  {
   "cell_type": "code",
   "execution_count": 1,
   "metadata": {},
   "outputs": [
    {
     "name": "stdout",
     "output_type": "stream",
     "text": [
      "True\n",
      "False\n",
      "True\n"
     ]
    }
   ],
   "source": [
    "import numpy as np\n",
    "import cv2 as cv\n",
    "\n",
    "cap = cv.VideoCapture(0)\n",
    "if not cap.isOpened():\n",
    "    print(\"Cannot open camera\")\n",
    "    exit()\n",
    "\n",
    "while True:\n",
    "    ret, frame = cap.read() # Capture frame-by-frame\n",
    "    # if frame is read correctly ret is True\n",
    "    if not ret:\n",
    "        print(\"Can't receive frame (stream end?). Exiting ...\")\n",
    "        break\n",
    "    gray = cv.cvtColor(frame, cv.COLOR_BGR2GRAY) # Our operations on the frame come here\n",
    "    cv.imshow('frame',gray) # Display the resulting frame\n",
    "    if cv.waitKey(1) == ord('q'): # Press Q on keyboard to exit\n",
    "        break\n",
    "\n",
    "print(cap.isOpened())\n",
    "# When everything done, release the video capture object\n",
    "cap.release()\n",
    "cv.destroyAllWindows() # Closes all the frames\n",
    "print(cap.isOpened())\n",
    "print(ret)"
   ]
  },
  {
   "cell_type": "markdown",
   "metadata": {},
   "source": [
    "**cap.read()** returns a bool (True/False). If the frame is read correctly, it will be True. So you can check for the end of the video by checking this returned value.\n",
    "\n",
    "Sometimes, cap may not have initialized the capture. In that case, this code shows an error. You can check whether it is initialized or not by the method **cap.isOpened()**. If it is True, OK. Otherwise open it using cap.open().\n",
    "\n",
    "You can also access some of the features of this video using **cap.get(propId)** method where propId is a number from 0 to 18. Each number denotes a property of the video (if it is applicable to that video)."
   ]
  },
  {
   "cell_type": "markdown",
   "metadata": {},
   "source": [
    "## Playing Video from file"
   ]
  },
  {
   "cell_type": "markdown",
   "metadata": {},
   "source": [
    "**Playing video from file is the same as capturing it from camera, just change the camera index to a video file name.** Also while displaying the frame, use appropriate time for cv.waitKey(). If it is too less, video will be very fast and if it is too high, video will be slow (Well, that is how you can display videos in slow motion). 25 milliseconds will be OK in normal cases."
   ]
  },
  {
   "cell_type": "code",
   "execution_count": 12,
   "metadata": {},
   "outputs": [
    {
     "name": "stdout",
     "output_type": "stream",
     "text": [
      "Can't receive frame (stream end?). Exiting ...\n",
      "True\n",
      "False\n",
      "False\n"
     ]
    }
   ],
   "source": [
    "import numpy as np\n",
    "import cv2 as cv\n",
    "\n",
    "cap = cv.VideoCapture(\"../images/1minutevideo.mp4\")\n",
    "\n",
    "while cap.isOpened():\n",
    "    ret, frame = cap.read()\n",
    "    \n",
    "    # if frame is read correctly ret is True\n",
    "    if not ret:\n",
    "        print(\"Can't receive frame (stream end?). Exiting ...\")\n",
    "        break\n",
    "    \n",
    "    gray = cv.cvtColor(frame, cv.COLOR_BGR2GRAY) # Our operations on the frame come here\n",
    "    \n",
    "    cv.imshow(\"frame\",gray) # Display the resulting frame\n",
    "    if cv.waitKey(1) == ord('q'): # Press Q on keyboard to exit\n",
    "        break\n",
    "   \n",
    "print(cap.isOpened())   \n",
    "    \n",
    "# When everything done, release the video capture object\n",
    "cap.release()\n",
    "cv.destroyAllWindows() # Closes all the frames\n",
    "\n",
    "print(cap.isOpened())\n",
    "print(ret)\n"
   ]
  },
  {
   "cell_type": "markdown",
   "metadata": {},
   "source": [
    "## Saving a Video"
   ]
  },
  {
   "cell_type": "markdown",
   "metadata": {},
   "source": [
    "This time we create a **VideoWriter** object. We should specify the **output file name** (eg: output.avi). Then we should specify the **FourCC** code (details in next paragraph). Then number of frames per second (**fps**) and **frame size** should be passed. And the last one is the **isColor** flag. If it is True, the encoder expect color frame, otherwise it works with grayscale frame.\n",
    "\n",
    "FourCC is a 4-byte code used to specify the video codec. The list of available codes can be found in fourcc.org. It is platform dependent. The following codecs work fine for me.\n",
    "\n",
    "1. In Fedora: DIVX, XVID, MJPG, X264, WMV1, WMV2. (XVID is more preferable. MJPG results in high size video. X264 gives very small size video)\n",
    "2. In Windows: DIVX (More to be tested and added)\n",
    "3. In OSX: MJPG (.mp4), DIVX (.avi), X264 (.mkv).\n",
    "\n",
    "FourCC code is passed as ‘cv.VideoWriter_fourcc('M’,'J','P','G') or cv.VideoWriter_fourcc(*'MJPG')` for MJPG."
   ]
  },
  {
   "cell_type": "code",
   "execution_count": null,
   "metadata": {},
   "outputs": [
    {
     "name": "stdout",
     "output_type": "stream",
     "text": [
      "True\n"
     ]
    }
   ],
   "source": [
    "import numpy as np\n",
    "import cv2 as cv\n",
    "import os\n",
    "\n",
    "# Path to the output folder\n",
    "output_dir = 'output'\n",
    "output_path = os.path.join(output_dir, 'output.mp4')\n",
    "\n",
    "cap = cv.VideoCapture(0)\n",
    "\n",
    "# Define the codec and create VideoWriter object\n",
    "fourcc = cv.VideoWriter_fourcc(*'MJPG')\n",
    "out = cv.VideoWriter(output_path, fourcc, 20.0, (640, 480))\n",
    "\n",
    "while cap.isOpened():\n",
    "    ret, frame = cap.read()\n",
    "    \n",
    "    # if frame is read correctly ret is True\n",
    "    if not ret:\n",
    "        print(\"Can't receive frame (stream end?). Exiting ...\")\n",
    "        break\n",
    "    \n",
    "    frame = cv.flip(frame, 1) # Flip camera vertically\n",
    "    \n",
    "    out.write(frame) # Write the flipped frame\n",
    "    \n",
    "    cv.imshow(\"frame\",frame) # Display the resulting frame\n",
    "    if cv.waitKey(1) == ord('q'): # Press Q on keyboard to exit\n",
    "        break\n",
    "    \n",
    "print(cap.isOpened())   \n",
    "# When everything done, release the video capture object\n",
    "cap.release()\n",
    "\n",
    "# Closes all the frames\n",
    "out.release()\n",
    "cv.destroyAllWindows()"
   ]
  },
  {
   "cell_type": "code",
   "execution_count": null,
   "metadata": {},
   "outputs": [],
   "source": []
  }
 ],
 "metadata": {
  "kernelspec": {
   "display_name": ".venv",
   "language": "python",
   "name": "python3"
  },
  "language_info": {
   "codemirror_mode": {
    "name": "ipython",
    "version": 3
   },
   "file_extension": ".py",
   "mimetype": "text/x-python",
   "name": "python",
   "nbconvert_exporter": "python",
   "pygments_lexer": "ipython3",
   "version": "3.10.16"
  }
 },
 "nbformat": 4,
 "nbformat_minor": 2
}
